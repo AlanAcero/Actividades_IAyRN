{
  "nbformat": 4,
  "nbformat_minor": 0,
  "metadata": {
    "colab": {
      "provenance": [],
      "include_colab_link": true
    },
    "kernelspec": {
      "name": "python3",
      "display_name": "Python 3"
    },
    "language_info": {
      "name": "python"
    }
  },
  "cells": [
    {
      "cell_type": "markdown",
      "metadata": {
        "id": "view-in-github",
        "colab_type": "text"
      },
      "source": [
        "<a href=\"https://colab.research.google.com/github/AlanAcero/Actividades_IAyRN/blob/main/A2_Ejercicios_en_Python.ipynb\" target=\"_parent\"><img src=\"https://colab.research.google.com/assets/colab-badge.svg\" alt=\"Open In Colab\"/></a>"
      ]
    },
    {
      "cell_type": "markdown",
      "source": [
        "ERNESTO ALAN ACERO QUIROZ 2077428 IAyRN LMV N1 007-A2.- Ejercicios en Python"
      ],
      "metadata": {
        "id": "BmrIZ9AypOeI"
      }
    },
    {
      "cell_type": "code",
      "execution_count": null,
      "metadata": {
        "id": "AprRSkO3CC2U"
      },
      "outputs": [],
      "source": [
        "#numero par-impar\n",
        "numero = int(input(\"Ingresa un número\"))\n",
        "\n",
        "if numero % 2 != 0:\n",
        "\n",
        "    print(\"El número ingresado es impar\")\n",
        "\n",
        "else:\n",
        "\n",
        "\n",
        "     print(\"El número ingresado es par\")"
      ]
    },
    {
      "cell_type": "code",
      "source": [
        "#Lista con numeros ingresados por el usuario\n",
        "\n",
        "lista_numeros = []\n",
        "cantidad_numeros = int(input(\"Ingresa la cantidad de numeros que tendra la lista: \"))\n",
        "\n",
        "for i in range(1,cantidad_numeros+1):\n",
        "\n",
        "    n = int(input(\"Ingresa un número: \"))\n",
        "    lista_numeros.append(n)\n",
        "\n",
        "else:\n",
        "\n",
        "    print(\"Lista \",lista_numeros)\n",
        "    lista_numeros.reverse()\n",
        "    print(\"Lista Invertida\",lista_numeros)"
      ],
      "metadata": {
        "id": "utOyY4ElCKiu"
      },
      "execution_count": null,
      "outputs": []
    },
    {
      "cell_type": "code",
      "source": [
        "#Adivina el numero\n",
        "import random\n",
        "\n",
        "n = random.randrange(1,100)\n",
        "\n",
        "print(\"Bienvenido a ¡Adivina el numero secreto! \")\n",
        "\n",
        "numero = int(input(\"Ingresa un número: \"))\n",
        "\n",
        "\n",
        "while True:\n",
        "\n",
        "\n",
        "    if numero == n:\n",
        "\n",
        "        print(f\"Adivinaste, el número secreto es {numero}\")\n",
        "        print(\"Fin del juego\")\n",
        "        break\n",
        "\n",
        "    elif numero > n:\n",
        "\n",
        "        print(f\"No adivinaste, el numero secreto es menor al numero {numero} intenta nuevamente.\")\n",
        "\n",
        "\n",
        "    elif numero < n:\n",
        "\n",
        "        print(f\"No adivinaste, el numero secreto es mayor al número {numero}  intenta nuevamente.\")\n",
        "\n",
        "\n",
        "    numero = int(input(\"Igresa un número: \"))\n"
      ],
      "metadata": {
        "id": "bOrry6jVCOty"
      },
      "execution_count": null,
      "outputs": []
    },
    {
      "cell_type": "code",
      "source": [
        "#Números primos en un rango dado\n",
        "\n",
        "\n",
        "#Función para identificar los números primos\n",
        "def numero_primo(n):\n",
        "\n",
        "    for i in range(2,n):\n",
        "\n",
        "        if n % i == 0:\n",
        "            return False\n",
        "        else:\n",
        "\n",
        "            return True\n",
        "\n",
        "print(\"Genera un rango de números\")\n",
        "numero_inicio = int(input(\"Ingresa el número para el inicio del rango: \"))\n",
        "numero_fin = int(input(\"Ingresa el número para el fin del rango: \"))\n",
        "\n",
        "rango_numeros = [i for i in range(numero_inicio,numero_fin+1)]\n",
        "\n",
        "print(\"El rango de números generado es \", rango_numeros)\n",
        "\n",
        "\n",
        "primos= []\n",
        "for i in rango_numeros:\n",
        "\n",
        "    if numero_primo(i) == True:\n",
        "\n",
        "        primos.append(i)\n",
        "\n",
        "\n",
        "\n",
        "print(\"Los números primos dentro de rango de números generado son: \",primos )\n"
      ],
      "metadata": {
        "id": "VvuyTBDSCqeB"
      },
      "execution_count": null,
      "outputs": []
    }
  ]
}